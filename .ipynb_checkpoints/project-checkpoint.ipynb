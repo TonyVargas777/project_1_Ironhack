{
 "cells": [
  {
   "cell_type": "code",
   "execution_count": 2,
   "id": "1c83cf50-9e6a-497c-896c-b4bce6c70a86",
   "metadata": {
    "tags": []
   },
   "outputs": [],
   "source": [
    "import pandas as pd\n",
    "import matplotlib.pyplot as plt\n",
    "import seaborn as sns\n",
    "\n"
   ]
  },
  {
   "cell_type": "code",
   "execution_count": 3,
   "id": "cdfab1e2-aacc-4584-8973-2ade14430b54",
   "metadata": {
    "tags": []
   },
   "outputs": [],
   "source": [
    "df_fees = pd.read_csv(\"./project_dataset/extract - fees - data analyst - .csv\")\n",
    "df_cash = pd.read_csv(\"./project_dataset/extract - cash request - data analyst.csv\")"
   ]
  },
  {
   "cell_type": "code",
   "execution_count": null,
   "id": "4bf1999d-b16c-4218-9554-cf9b16ddf3cb",
   "metadata": {},
   "outputs": [],
   "source": []
  },
  {
   "cell_type": "markdown",
   "id": "8347ce27-86ba-4850-8f5d-57f362b282cd",
   "metadata": {},
   "source": [
    "# 1. Análisis Exploratorio de Datos (EDA) "
   ]
  },
  {
   "cell_type": "code",
   "execution_count": 4,
   "id": "62ff53f9-070c-4656-89d1-4cd1d2fa9084",
   "metadata": {
    "tags": []
   },
   "outputs": [
    {
     "name": "stdout",
     "output_type": "stream",
     "text": [
      "<class 'pandas.core.frame.DataFrame'>\n",
      "RangeIndex: 23970 entries, 0 to 23969\n",
      "Data columns (total 16 columns):\n",
      " #   Column                      Non-Null Count  Dtype  \n",
      "---  ------                      --------------  -----  \n",
      " 0   id                          23970 non-null  int64  \n",
      " 1   amount                      23970 non-null  float64\n",
      " 2   status                      23970 non-null  object \n",
      " 3   created_at                  23970 non-null  object \n",
      " 4   updated_at                  23970 non-null  object \n",
      " 5   user_id                     21867 non-null  float64\n",
      " 6   moderated_at                16035 non-null  object \n",
      " 7   deleted_account_id          2104 non-null   float64\n",
      " 8   reimbursement_date          23970 non-null  object \n",
      " 9   cash_request_received_date  16289 non-null  object \n",
      " 10  money_back_date             16543 non-null  object \n",
      " 11  transfer_type               23970 non-null  object \n",
      " 12  send_at                     16641 non-null  object \n",
      " 13  recovery_status             3330 non-null   object \n",
      " 14  reco_creation               3330 non-null   object \n",
      " 15  reco_last_update            3330 non-null   object \n",
      "dtypes: float64(3), int64(1), object(12)\n",
      "memory usage: 2.9+ MB\n"
     ]
    }
   ],
   "source": [
    "df_cash.info()"
   ]
  },
  {
   "cell_type": "code",
   "execution_count": 5,
   "id": "ef544a8c-28f3-4d92-92fe-628c7da166b4",
   "metadata": {
    "tags": []
   },
   "outputs": [
    {
     "name": "stdout",
     "output_type": "stream",
     "text": [
      "<class 'pandas.core.frame.DataFrame'>\n",
      "RangeIndex: 21061 entries, 0 to 21060\n",
      "Data columns (total 13 columns):\n",
      " #   Column           Non-Null Count  Dtype  \n",
      "---  ------           --------------  -----  \n",
      " 0   id               21061 non-null  int64  \n",
      " 1   cash_request_id  21057 non-null  float64\n",
      " 2   type             21061 non-null  object \n",
      " 3   status           21061 non-null  object \n",
      " 4   category         2196 non-null   object \n",
      " 5   total_amount     21061 non-null  float64\n",
      " 6   reason           21061 non-null  object \n",
      " 7   created_at       21061 non-null  object \n",
      " 8   updated_at       21061 non-null  object \n",
      " 9   paid_at          15531 non-null  object \n",
      " 10  from_date        7766 non-null   object \n",
      " 11  to_date          7766 non-null   object \n",
      " 12  charge_moment    21061 non-null  object \n",
      "dtypes: float64(2), int64(1), object(10)\n",
      "memory usage: 2.1+ MB\n"
     ]
    }
   ],
   "source": [
    "df_fees.info()"
   ]
  },
  {
   "cell_type": "code",
   "execution_count": 38,
   "id": "131d93fd-10db-4398-aa41-c40c7eca4b0d",
   "metadata": {
    "tags": []
   },
   "outputs": [
    {
     "data": {
      "text/html": [
       "<div>\n",
       "<style scoped>\n",
       "    .dataframe tbody tr th:only-of-type {\n",
       "        vertical-align: middle;\n",
       "    }\n",
       "\n",
       "    .dataframe tbody tr th {\n",
       "        vertical-align: top;\n",
       "    }\n",
       "\n",
       "    .dataframe thead th {\n",
       "        text-align: right;\n",
       "    }\n",
       "</style>\n",
       "<table border=\"1\" class=\"dataframe\">\n",
       "  <thead>\n",
       "    <tr style=\"text-align: right;\">\n",
       "      <th></th>\n",
       "      <th>id</th>\n",
       "      <th>amount</th>\n",
       "      <th>user_id</th>\n",
       "      <th>deleted_account_id</th>\n",
       "    </tr>\n",
       "  </thead>\n",
       "  <tbody>\n",
       "    <tr>\n",
       "      <th>count</th>\n",
       "      <td>23970.000000</td>\n",
       "      <td>23970.000000</td>\n",
       "      <td>21867.000000</td>\n",
       "      <td>2104.000000</td>\n",
       "    </tr>\n",
       "    <tr>\n",
       "      <th>mean</th>\n",
       "      <td>13910.966124</td>\n",
       "      <td>82.720818</td>\n",
       "      <td>32581.250789</td>\n",
       "      <td>9658.755228</td>\n",
       "    </tr>\n",
       "    <tr>\n",
       "      <th>std</th>\n",
       "      <td>7788.117214</td>\n",
       "      <td>26.528065</td>\n",
       "      <td>27618.565773</td>\n",
       "      <td>7972.743249</td>\n",
       "    </tr>\n",
       "    <tr>\n",
       "      <th>min</th>\n",
       "      <td>3.000000</td>\n",
       "      <td>1.000000</td>\n",
       "      <td>34.000000</td>\n",
       "      <td>91.000000</td>\n",
       "    </tr>\n",
       "    <tr>\n",
       "      <th>25%</th>\n",
       "      <td>7427.250000</td>\n",
       "      <td>50.000000</td>\n",
       "      <td>10804.000000</td>\n",
       "      <td>3767.000000</td>\n",
       "    </tr>\n",
       "    <tr>\n",
       "      <th>50%</th>\n",
       "      <td>14270.500000</td>\n",
       "      <td>100.000000</td>\n",
       "      <td>23773.000000</td>\n",
       "      <td>6121.500000</td>\n",
       "    </tr>\n",
       "    <tr>\n",
       "      <th>75%</th>\n",
       "      <td>20607.750000</td>\n",
       "      <td>100.000000</td>\n",
       "      <td>46965.000000</td>\n",
       "      <td>16345.000000</td>\n",
       "    </tr>\n",
       "    <tr>\n",
       "      <th>max</th>\n",
       "      <td>27010.000000</td>\n",
       "      <td>200.000000</td>\n",
       "      <td>103719.000000</td>\n",
       "      <td>30445.000000</td>\n",
       "    </tr>\n",
       "  </tbody>\n",
       "</table>\n",
       "</div>"
      ],
      "text/plain": [
       "                 id        amount        user_id  deleted_account_id\n",
       "count  23970.000000  23970.000000   21867.000000         2104.000000\n",
       "mean   13910.966124     82.720818   32581.250789         9658.755228\n",
       "std     7788.117214     26.528065   27618.565773         7972.743249\n",
       "min        3.000000      1.000000      34.000000           91.000000\n",
       "25%     7427.250000     50.000000   10804.000000         3767.000000\n",
       "50%    14270.500000    100.000000   23773.000000         6121.500000\n",
       "75%    20607.750000    100.000000   46965.000000        16345.000000\n",
       "max    27010.000000    200.000000  103719.000000        30445.000000"
      ]
     },
     "execution_count": 38,
     "metadata": {},
     "output_type": "execute_result"
    }
   ],
   "source": [
    "df_cash.describe()"
   ]
  },
  {
   "cell_type": "code",
   "execution_count": 40,
   "id": "50861cda-b800-48e7-b2ae-3087fb1071d9",
   "metadata": {
    "tags": []
   },
   "outputs": [
    {
     "data": {
      "text/html": [
       "<div>\n",
       "<style scoped>\n",
       "    .dataframe tbody tr th:only-of-type {\n",
       "        vertical-align: middle;\n",
       "    }\n",
       "\n",
       "    .dataframe tbody tr th {\n",
       "        vertical-align: top;\n",
       "    }\n",
       "\n",
       "    .dataframe thead th {\n",
       "        text-align: right;\n",
       "    }\n",
       "</style>\n",
       "<table border=\"1\" class=\"dataframe\">\n",
       "  <thead>\n",
       "    <tr style=\"text-align: right;\">\n",
       "      <th></th>\n",
       "      <th>id</th>\n",
       "      <th>cash_request_id</th>\n",
       "      <th>total_amount</th>\n",
       "    </tr>\n",
       "  </thead>\n",
       "  <tbody>\n",
       "    <tr>\n",
       "      <th>count</th>\n",
       "      <td>21061.000000</td>\n",
       "      <td>21057.000000</td>\n",
       "      <td>21061.000000</td>\n",
       "    </tr>\n",
       "    <tr>\n",
       "      <th>mean</th>\n",
       "      <td>10645.355111</td>\n",
       "      <td>16318.449162</td>\n",
       "      <td>5.000237</td>\n",
       "    </tr>\n",
       "    <tr>\n",
       "      <th>std</th>\n",
       "      <td>6099.315256</td>\n",
       "      <td>6656.149949</td>\n",
       "      <td>0.034453</td>\n",
       "    </tr>\n",
       "    <tr>\n",
       "      <th>min</th>\n",
       "      <td>1.000000</td>\n",
       "      <td>1456.000000</td>\n",
       "      <td>5.000000</td>\n",
       "    </tr>\n",
       "    <tr>\n",
       "      <th>25%</th>\n",
       "      <td>5385.000000</td>\n",
       "      <td>11745.000000</td>\n",
       "      <td>5.000000</td>\n",
       "    </tr>\n",
       "    <tr>\n",
       "      <th>50%</th>\n",
       "      <td>10652.000000</td>\n",
       "      <td>17160.000000</td>\n",
       "      <td>5.000000</td>\n",
       "    </tr>\n",
       "    <tr>\n",
       "      <th>75%</th>\n",
       "      <td>15925.000000</td>\n",
       "      <td>21796.000000</td>\n",
       "      <td>5.000000</td>\n",
       "    </tr>\n",
       "    <tr>\n",
       "      <th>max</th>\n",
       "      <td>21193.000000</td>\n",
       "      <td>27010.000000</td>\n",
       "      <td>10.000000</td>\n",
       "    </tr>\n",
       "  </tbody>\n",
       "</table>\n",
       "</div>"
      ],
      "text/plain": [
       "                 id  cash_request_id  total_amount\n",
       "count  21061.000000     21057.000000  21061.000000\n",
       "mean   10645.355111     16318.449162      5.000237\n",
       "std     6099.315256      6656.149949      0.034453\n",
       "min        1.000000      1456.000000      5.000000\n",
       "25%     5385.000000     11745.000000      5.000000\n",
       "50%    10652.000000     17160.000000      5.000000\n",
       "75%    15925.000000     21796.000000      5.000000\n",
       "max    21193.000000     27010.000000     10.000000"
      ]
     },
     "execution_count": 40,
     "metadata": {},
     "output_type": "execute_result"
    }
   ],
   "source": [
    "df_fees.describe()"
   ]
  },
  {
   "cell_type": "code",
   "execution_count": 52,
   "id": "7b61f2cd-08b6-48e8-88a0-91af600ed19a",
   "metadata": {
    "tags": []
   },
   "outputs": [
    {
     "data": {
      "image/png": "[encoded data removed]",
      "text/plain": [
       "<Figure size 640x480 with 1 Axes>"
      ]
     },
     "metadata": {},
     "output_type": "display_data"
    }
   ],
   "source": [
    "sns.histplot(df_cash['amount'], bins=20)\n",
    "plt.show()"
   ]
  },
  {
   "cell_type": "code",
   "execution_count": 54,
   "id": "8c851055-8f41-4766-8626-98434e897c54",
   "metadata": {
    "tags": []
   },
   "outputs": [
    {
     "name": "stderr",
     "output_type": "stream",
     "text": [
      "C:\\Users\\TONAC\\AppData\\Local\\Temp\\ipykernel_15080\\4006637869.py:2: UserWarning: Converting to PeriodArray/Index representation will drop timezone information.\n",
      "  df_cash['year_month'] = df_cash['created_at'].dt.to_period('M')\n"
     ]
    },
    {
     "data": {
      "text/plain": [
       "<Axes: xlabel='year_month'>"
      ]
     },
     "execution_count": 54,
     "metadata": {},
     "output_type": "execute_result"
    },
    {
     "data": {
      "image/png": "[encoded data removed]",
      "text/plain": [
       "<Figure size 640x480 with 1 Axes>"
      ]
     },
     "metadata": {},
     "output_type": "display_data"
    }
   ],
   "source": [
    "df_cash['created_at'] = pd.to_datetime(df_cash['created_at'])\n",
    "df_cash['year_month'] = df_cash['created_at'].dt.to_period('M')\n",
    "df_cash.groupby('year_month')['amount'].sum().plot(kind='bar')"
   ]
  },
  {
   "cell_type": "markdown",
   "id": "3dd90d78-159f-4197-81e6-7c34e33e2388",
   "metadata": {},
   "source": [
    "# 2. Análisis de Calidad de Datos"
   ]
  },
  {
   "cell_type": "code",
   "execution_count": 6,
   "id": "2915ec91-8dc0-4967-a120-32649e6a9edd",
   "metadata": {
    "tags": []
   },
   "outputs": [
    {
     "data": {
      "text/plain": [
       "id                                0\n",
       "amount                            0\n",
       "status                            0\n",
       "created_at                        0\n",
       "updated_at                        0\n",
       "user_id                        2103\n",
       "moderated_at                   7935\n",
       "deleted_account_id            21866\n",
       "reimbursement_date                0\n",
       "cash_request_received_date     7681\n",
       "money_back_date                7427\n",
       "transfer_type                     0\n",
       "send_at                        7329\n",
       "recovery_status               20640\n",
       "reco_creation                 20640\n",
       "reco_last_update              20640\n",
       "dtype: int64"
      ]
     },
     "execution_count": 6,
     "metadata": {},
     "output_type": "execute_result"
    }
   ],
   "source": [
    "df_cash.isnull().sum()"
   ]
  },
  {
   "cell_type": "code",
   "execution_count": 7,
   "id": "8f92c8c8-6207-42f2-a4ad-e85ac20c6edb",
   "metadata": {
    "tags": []
   },
   "outputs": [
    {
     "data": {
      "text/plain": [
       "id                     0\n",
       "cash_request_id        4\n",
       "type                   0\n",
       "status                 0\n",
       "category           18865\n",
       "total_amount           0\n",
       "reason                 0\n",
       "created_at             0\n",
       "updated_at             0\n",
       "paid_at             5530\n",
       "from_date          13295\n",
       "to_date            13295\n",
       "charge_moment          0\n",
       "dtype: int64"
      ]
     },
     "execution_count": 7,
     "metadata": {},
     "output_type": "execute_result"
    }
   ],
   "source": [
    "df_fees.isnull().sum()"
   ]
  },
  {
   "cell_type": "code",
   "execution_count": 44,
   "id": "15668544-48c8-40b4-852f-03545c95da88",
   "metadata": {
    "tags": []
   },
   "outputs": [
    {
     "data": {
      "text/plain": [
       "id                                          int64\n",
       "amount                                    float64\n",
       "status                                     object\n",
       "created_at                    datetime64[ns, UTC]\n",
       "updated_at                                 object\n",
       "user_id                                   float64\n",
       "moderated_at                               object\n",
       "deleted_account_id                        float64\n",
       "reimbursement_date                         object\n",
       "cash_request_received_date                 object\n",
       "money_back_date                            object\n",
       "transfer_type                              object\n",
       "send_at                                    object\n",
       "recovery_status                            object\n",
       "reco_creation                              object\n",
       "reco_last_update                           object\n",
       "year_month                              period[M]\n",
       "dtype: object"
      ]
     },
     "execution_count": 44,
     "metadata": {},
     "output_type": "execute_result"
    }
   ],
   "source": [
    "df_cash.dtypes"
   ]
  },
  {
   "cell_type": "code",
   "execution_count": 46,
   "id": "b6b3b034-9b41-402e-8644-dd4aef704067",
   "metadata": {
    "tags": []
   },
   "outputs": [
    {
     "data": {
      "text/plain": [
       "id                   int64\n",
       "cash_request_id    float64\n",
       "type                object\n",
       "status              object\n",
       "category            object\n",
       "total_amount       float64\n",
       "reason              object\n",
       "created_at          object\n",
       "updated_at          object\n",
       "paid_at             object\n",
       "from_date           object\n",
       "to_date             object\n",
       "charge_moment       object\n",
       "dtype: object"
      ]
     },
     "execution_count": 46,
     "metadata": {},
     "output_type": "execute_result"
    }
   ],
   "source": [
    "df_fees.dtypes"
   ]
  },
  {
   "cell_type": "code",
   "execution_count": 33,
   "id": "8862b046-b950-44a3-9f3a-537278100fa8",
   "metadata": {
    "tags": []
   },
   "outputs": [
    {
     "data": {
      "text/plain": [
       "0"
      ]
     },
     "execution_count": 33,
     "metadata": {},
     "output_type": "execute_result"
    }
   ],
   "source": [
    "df_fees.duplicated().sum()"
   ]
  },
  {
   "cell_type": "code",
   "execution_count": 31,
   "id": "b3598cc5-a3c6-4985-9cb6-b574b51d5a54",
   "metadata": {
    "tags": []
   },
   "outputs": [
    {
     "data": {
      "text/plain": [
       "0"
      ]
     },
     "execution_count": 31,
     "metadata": {},
     "output_type": "execute_result"
    }
   ],
   "source": [
    "df_cash.duplicated().sum()"
   ]
  },
  {
   "cell_type": "markdown",
   "id": "ec069d24-629f-4d78-8d8d-d5c6aa61e0ac",
   "metadata": {
    "tags": []
   },
   "source": [
    "# 3. Análisis de Cohortes"
   ]
  },
  {
   "cell_type": "code",
   "execution_count": 64,
   "id": "b61afebf-c83c-40fd-84af-88e1280c2266",
   "metadata": {
    "tags": []
   },
   "outputs": [
    {
     "name": "stderr",
     "output_type": "stream",
     "text": [
      "C:\\Users\\TONAC\\AppData\\Local\\Temp\\ipykernel_15080\\65951409.py:2: UserWarning: Converting to PeriodArray/Index representation will drop timezone information.\n",
      "  df_cash['cohort'] = df_cash.groupby('user_id')['created_at'].transform('min').dt.to_period('M')\n"
     ]
    }
   ],
   "source": [
    "# Usuarios agrupados por mes\n",
    "df_cash['cohort'] = df_cash.groupby('user_id')['created_at'].transform('min').dt.to_period('M')"
   ]
  },
  {
   "cell_type": "code",
   "execution_count": 60,
   "id": "e87e7c20-002e-4f3c-88af-142232f6fdea",
   "metadata": {
    "tags": []
   },
   "outputs": [
    {
     "name": "stderr",
     "output_type": "stream",
     "text": [
      "C:\\Users\\TONAC\\AppData\\Local\\Temp\\ipykernel_15080\\2060704007.py:2: UserWarning: Converting to PeriodArray/Index representation will drop timezone information.\n",
      "  df_cash['month'] = df_cash['created_at'].dt.to_period('M')\n"
     ]
    }
   ],
   "source": [
    "# Frecuencia del uso del servicio\n",
    "df_cash['month'] = df_cash['created_at'].dt.to_period('M')\n",
    "cohort_usage = df_cash.groupby(['cohort', 'month'])['id'].count().unstack()"
   ]
  },
  {
   "cell_type": "code",
   "execution_count": 72,
   "id": "c913c42c-da2e-4f6b-adea-4fa506633de3",
   "metadata": {
    "tags": []
   },
   "outputs": [
    {
     "data": {
      "text/plain": [
       "cash_request_id\n",
       "1625.0     1\n",
       "1880.0     4\n",
       "2554.0     4\n",
       "2560.0     3\n",
       "2583.0     2\n",
       "          ..\n",
       "26897.0    1\n",
       "26921.0    1\n",
       "26959.0    1\n",
       "26977.0    1\n",
       "27000.0    1\n",
       "Name: id, Length: 856, dtype: int64"
      ]
     },
     "execution_count": 72,
     "metadata": {},
     "output_type": "execute_result"
    }
   ],
   "source": [
    "# Tasa de incidentes (\"rejected\")\n",
    "incidents = df_fees[df_fees['status'] == 'rejected'].groupby('cash_request_id')['id'].count()\n",
    "incidents"
   ]
  },
  {
   "cell_type": "code",
   "execution_count": 76,
   "id": "8be4c348-444f-425a-a95c-42727c2aceac",
   "metadata": {
    "tags": []
   },
   "outputs": [
    {
     "data": {
      "text/plain": [
       "count    856.000000\n",
       "mean       1.394860\n",
       "std        0.672377\n",
       "min        1.000000\n",
       "25%        1.000000\n",
       "50%        1.000000\n",
       "75%        2.000000\n",
       "max        4.000000\n",
       "Name: id, dtype: float64"
      ]
     },
     "execution_count": 76,
     "metadata": {},
     "output_type": "execute_result"
    }
   ],
   "source": [
    "incidents.describe()"
   ]
  },
  {
   "cell_type": "code",
   "execution_count": 78,
   "id": "0dc89e62-ab6e-4d61-93fa-b14c0740a0d2",
   "metadata": {
    "tags": []
   },
   "outputs": [
    {
     "data": {
      "text/plain": [
       "cash_request_id\n",
       "1456.0      5.0\n",
       "1503.0     15.0\n",
       "1518.0     40.0\n",
       "1554.0     20.0\n",
       "1556.0      5.0\n",
       "           ... \n",
       "27004.0     5.0\n",
       "27006.0     5.0\n",
       "27007.0     5.0\n",
       "27009.0     5.0\n",
       "27010.0     5.0\n",
       "Name: total_amount, Length: 12933, dtype: float64"
      ]
     },
     "execution_count": 78,
     "metadata": {},
     "output_type": "execute_result"
    }
   ],
   "source": [
    "#  Ingresos generados por cohorte\n",
    "cohort_revenue = df_fees.groupby('cash_request_id')['total_amount'].sum()\n",
    "cohort_revenue"
   ]
  },
  {
   "cell_type": "code",
   "execution_count": 80,
   "id": "be767d27-49cb-414e-a768-a415142d5350",
   "metadata": {
    "tags": []
   },
   "outputs": [
    {
     "data": {
      "text/plain": [
       "count    12933.000000\n",
       "mean         8.141189\n",
       "std          6.847247\n",
       "min          5.000000\n",
       "25%          5.000000\n",
       "50%          5.000000\n",
       "75%         10.000000\n",
       "max        175.000000\n",
       "Name: total_amount, dtype: float64"
      ]
     },
     "execution_count": 80,
     "metadata": {},
     "output_type": "execute_result"
    }
   ],
   "source": [
    "cohort_revenue.describe()"
   ]
  },
  {
   "cell_type": "code",
   "execution_count": 116,
   "id": "9073abbc-bf85-49c4-bc49-c319a65cf343",
   "metadata": {
    "tags": []
   },
   "outputs": [
    {
     "data": {
      "text/plain": [
       "Text(120.72222222222221, 0.5, 'Meses')"
      ]
     },
     "execution_count": 116,
     "metadata": {},
     "output_type": "execute_result"
    },
    {
     "data": {
      "image/png": "[encoded data removed]",
      "text/plain": [
       "<Figure size 1200x800 with 2 Axes>"
      ]
     },
     "metadata": {},
     "output_type": "display_data"
    }
   ],
   "source": [
    "plt.figure(figsize=(12, 8))\n",
    "sns.heatmap(cohort_usage, cmap='Blues', annot=True, fmt='.0f')\n",
    "plt.title('Análisis de Frecuencia de Uso por Cohorte', fontsize=16)\n",
    "plt.xlabel('Cohortes', fontsize=14)\n",
    "plt.ylabel('Meses', fontsize=14)"
   ]
  },
  {
   "cell_type": "code",
   "execution_count": null,
   "id": "35660e38-d870-4ef9-89c7-1aaa9e6e321b",
   "metadata": {},
   "outputs": [],
   "source": []
  },
  {
   "cell_type": "code",
   "execution_count": null,
   "id": "b2d6770d-0ae4-47c1-add8-16d2e91a9ffd",
   "metadata": {},
   "outputs": [],
   "source": []
  },
  {
   "cell_type": "code",
   "execution_count": null,
   "id": "9df85831-b297-4dbb-9bf5-51fc57d4b4c9",
   "metadata": {},
   "outputs": [],
   "source": []
  },
  {
   "cell_type": "code",
   "execution_count": null,
   "id": "120dd3de-7671-403f-8fe9-3a74300d1f9a",
   "metadata": {},
   "outputs": [],
   "source": []
  },
  {
   "cell_type": "code",
   "execution_count": null,
   "id": "e73a4fa2-9cab-4e25-aec0-115b27c4d913",
   "metadata": {},
   "outputs": [],
   "source": []
  },
  {
   "cell_type": "code",
   "execution_count": null,
   "id": "3486c4ad-cdc6-4ee4-b9f5-e08465b4080e",
   "metadata": {},
   "outputs": [],
   "source": []
  },
  {
   "cell_type": "code",
   "execution_count": null,
   "id": "c47e06cd-ea7c-48c8-9c34-b025ae17e073",
   "metadata": {},
   "outputs": [],
   "source": []
  },
  {
   "cell_type": "code",
   "execution_count": null,
   "id": "ce636546-09e7-4d84-8fb0-43431cfe78af",
   "metadata": {},
   "outputs": [],
   "source": []
  },
  {
   "cell_type": "code",
   "execution_count": null,
   "id": "6c7e99b2-f8a6-499c-9cf4-96233cf65c5a",
   "metadata": {},
   "outputs": [],
   "source": []
  },
  {
   "cell_type": "code",
   "execution_count": null,
   "id": "54b1f9c9-e158-428f-9642-e7a41649b379",
   "metadata": {},
   "outputs": [],
   "source": []
  },
  {
   "cell_type": "code",
   "execution_count": null,
   "id": "2499af07-7b7c-4501-9ae2-e6dd144f7c99",
   "metadata": {},
   "outputs": [],
   "source": []
  },
  {
   "cell_type": "code",
   "execution_count": null,
   "id": "e1d8b704-e993-4697-863e-6e495084e8f3",
   "metadata": {},
   "outputs": [],
   "source": []
  },
  {
   "cell_type": "code",
   "execution_count": null,
   "id": "25702423-fb8b-4763-8a6d-ac27ad8b70ac",
   "metadata": {},
   "outputs": [],
   "source": []
  },
  {
   "cell_type": "code",
   "execution_count": null,
   "id": "2a5981ef-7473-435a-9d1d-0a4043f48e1a",
   "metadata": {},
   "outputs": [],
   "source": []
  }
 ],
 "metadata": {
  "kernelspec": {
   "display_name": "Python 3 (ipykernel)",
   "language": "python",
   "name": "python3"
  },
  "language_info": {
   "codemirror_mode": {
    "name": "ipython",
    "version": 3
   },
   "file_extension": ".py",
   "mimetype": "text/x-python",
   "name": "python",
   "nbconvert_exporter": "python",
   "pygments_lexer": "ipython3",
   "version": "3.11.9"
  }
 },
 "nbformat": 4,
 "nbformat_minor": 5
}
