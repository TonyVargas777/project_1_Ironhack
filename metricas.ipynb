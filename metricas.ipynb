{
 "cells": [
  {
   "cell_type": "code",
   "execution_count": 1,
   "id": "25df66b8-c308-4811-af3d-81c1d9fe6b56",
   "metadata": {},
   "outputs": [],
   "source": [
    "import pandas as pd\n",
    "import numpy as np\n",
    "import seaborn as sns\n",
    "import matplotlib.pyplot as plt\n",
    "import plotly.express as px\n",
    "import plotly.graph_objects as go\n",
    "from ydata_profiling import ProfileReport\n",
    "import warnings"
   ]
  },
  {
   "cell_type": "code",
   "execution_count": 2,
   "id": "8f49eae2-8282-4e7a-a511-14f383eaa503",
   "metadata": {},
   "outputs": [],
   "source": [
    "df_cash = pd.read_csv(\"./project_dataset/extract - cash request - data analyst.csv\")\n",
    "df_fees = pd.read_csv(\"./project_dataset/extract - fees - data analyst - .csv\")"
   ]
  },
  {
   "cell_type": "code",
   "execution_count": 3,
   "id": "d964eb69-aaab-48d9-9b9f-6d4df99fbe4f",
   "metadata": {},
   "outputs": [],
   "source": [
    "warnings.filterwarnings(\"ignore\")"
   ]
  },
  {
   "cell_type": "markdown",
   "id": "977cd8ae-98e7-4804-a12c-3db707690195",
   "metadata": {},
   "source": [
    "# 1. Frecuencia de Uso del Servicio:\n",
    "Definición: Queremos entender cuántas veces los usuarios dentro de cada cohorte (posiblemente por meses o años) usan el servicio de adelanto de efectivo.\n",
    "Cálculo:\n",
    "Agrupa los registros de df_cash por el campo user_id y el periodo (por ejemplo, mes o trimestre) basado en created_at.\n",
    "Cuenta el número de transacciones por usuario dentro de cada cohorte.\n",
    "Calcula la media de las transacciones por usuario para tener una idea de la frecuencia de uso promedio dentro de cada cohorte."
   ]
  },
  {
   "cell_type": "code",
   "execution_count": 5,
   "id": "a3fe21b6-01ac-4334-b4cb-8f1d788f4534",
   "metadata": {},
   "outputs": [],
   "source": [
    "# Convertir la columna `created_at` a formato datetime\n",
    "df_cash['created_at'] = pd.to_datetime(df_cash['created_at'])\n",
    "\n",
    "# Crear una nueva columna 'cohorte' basado en el mes de creación\n",
    "df_cash['cohorte'] = df_cash['created_at'].dt.to_period('M')\n",
    "\n",
    "# Agrupar por cohorte y usuario para calcular la frecuencia de uso\n",
    "frecuencia_uso = df_cash.groupby(['cohorte', 'user_id']).size().reset_index(name='uso_total')\n",
    "\n",
    "# Calcular la media de frecuencia de uso por cohorte\n",
    "frecuencia_cohorte = frecuencia_uso.groupby('cohorte')['uso_total'].mean().reset_index(name='frecuencia_media_uso')"
   ]
  },
  {
   "cell_type": "code",
   "execution_count": 6,
   "id": "07169efa-815f-4840-be9f-40c42e5f8207",
   "metadata": {},
   "outputs": [
    {
     "name": "stdout",
     "output_type": "stream",
     "text": [
      "       cohorte   user_id  uso_total\n",
      "0      2019-11      47.0          1\n",
      "1      2019-12      35.0          2\n",
      "2      2019-12      47.0          1\n",
      "3      2019-12      52.0          1\n",
      "4      2019-12      53.0          1\n",
      "...        ...       ...        ...\n",
      "18795  2020-11  103425.0          1\n",
      "18796  2020-11  103437.0          1\n",
      "18797  2020-11  103496.0          1\n",
      "18798  2020-11  103503.0          1\n",
      "18799  2020-11  103719.0          1\n",
      "\n",
      "[18800 rows x 3 columns]\n",
      "    cohorte  frecuencia_media_uso\n",
      "0   2019-11              1.000000\n",
      "1   2019-12              1.121951\n",
      "2   2020-01              1.106918\n",
      "3   2020-02              1.068027\n",
      "4   2020-03              1.131148\n",
      "5   2020-04              1.132791\n",
      "6   2020-05              1.143082\n",
      "7   2020-06              1.226703\n",
      "8   2020-07              1.306452\n",
      "9   2020-08              1.296141\n",
      "10  2020-09              1.144147\n",
      "11  2020-10              1.072683\n",
      "12  2020-11              1.000000\n"
     ]
    }
   ],
   "source": [
    "print(frecuencia_uso)\n",
    "print(frecuencia_cohorte)"
   ]
  },
  {
   "cell_type": "markdown",
   "id": "841f795a-c118-425f-9d35-95ecec390212",
   "metadata": {},
   "source": [
    "# 2. Tasa de Incidentes:\n",
    "Definición: Queremos identificar incidentes en el dataset df_fees, como pagos rechazados o direct debits fallidos, y calcular la tasa de incidentes por cohorte.\n",
    "Cálculo:\n",
    "Filtra los registros en df_fees que correspondan a incidentes (puedes usar la columna category para filtrar aquellos que tienen categorías relacionadas con incidentes).\n",
    "Agrupa los incidentes por cohorte (nuevamente, usando la fecha de created_at en df_cash para los IDs relacionados).\n",
    "Calcula la tasa de incidentes dividiendo el número de incidentes entre el número total de transacciones de cada cohorte."
   ]
  },
  {
   "cell_type": "code",
   "execution_count": 8,
   "id": "1e0a5058-4045-422c-adf7-1a26f76e9a05",
   "metadata": {},
   "outputs": [
    {
     "data": {
      "text/plain": [
       "array([nan, 'rejected_direct_debit', 'month_delay_on_payment'],\n",
       "      dtype=object)"
      ]
     },
     "execution_count": 8,
     "metadata": {},
     "output_type": "execute_result"
    }
   ],
   "source": [
    "df_fees['category'].unique()"
   ]
  },
  {
   "cell_type": "code",
   "execution_count": 9,
   "id": "8ad88fd8-2ebf-49f8-8571-b24d099eba03",
   "metadata": {},
   "outputs": [],
   "source": [
    "# Filtrar registros de incidentes en df_fees\n",
    "incidentes = df_fees[df_fees['category'].isin(['rejected_direct_debit', 'month_delay_on_payment'])]\n",
    "\n",
    "# Unir df_fees con df_cash para obtener el campo de cohorte\n",
    "incidentes = incidentes.merge(df_cash[['id', 'cohorte']], left_on='cash_request_id', right_on='id')\n",
    "\n",
    "# Calcular el número de incidentes por cohorte\n",
    "incidentes_cohorte = incidentes.groupby('cohorte').size().reset_index(name='total_incidentes')\n",
    "\n",
    "# Calcular el número total de transacciones por cohorte\n",
    "total_transacciones = df_cash.groupby('cohorte').size().reset_index(name='total_transacciones')\n",
    "\n",
    "# Calcular la tasa de incidentes\n",
    "tasa_incidentes = incidentes_cohorte.merge(total_transacciones, on='cohorte')\n",
    "tasa_incidentes['tasa_incidentes_%'] = tasa_incidentes['total_incidentes'] / tasa_incidentes['total_transacciones'] * 100"
   ]
  },
  {
   "cell_type": "code",
   "execution_count": 10,
   "id": "281e09b8-bff6-42ee-b28e-5ab9c20804c0",
   "metadata": {},
   "outputs": [
    {
     "data": {
      "text/html": [
       "<div>\n",
       "<style scoped>\n",
       "    .dataframe tbody tr th:only-of-type {\n",
       "        vertical-align: middle;\n",
       "    }\n",
       "\n",
       "    .dataframe tbody tr th {\n",
       "        vertical-align: top;\n",
       "    }\n",
       "\n",
       "    .dataframe thead th {\n",
       "        text-align: right;\n",
       "    }\n",
       "</style>\n",
       "<table border=\"1\" class=\"dataframe\">\n",
       "  <thead>\n",
       "    <tr style=\"text-align: right;\">\n",
       "      <th></th>\n",
       "      <th>cohorte</th>\n",
       "      <th>total_incidentes</th>\n",
       "      <th>total_transacciones</th>\n",
       "      <th>tasa_incidentes_%</th>\n",
       "    </tr>\n",
       "  </thead>\n",
       "  <tbody>\n",
       "    <tr>\n",
       "      <th>0</th>\n",
       "      <td>2020-05</td>\n",
       "      <td>44</td>\n",
       "      <td>837</td>\n",
       "      <td>5.256870</td>\n",
       "    </tr>\n",
       "    <tr>\n",
       "      <th>1</th>\n",
       "      <td>2020-06</td>\n",
       "      <td>560</td>\n",
       "      <td>2615</td>\n",
       "      <td>21.414914</td>\n",
       "    </tr>\n",
       "    <tr>\n",
       "      <th>2</th>\n",
       "      <td>2020-07</td>\n",
       "      <td>659</td>\n",
       "      <td>3601</td>\n",
       "      <td>18.300472</td>\n",
       "    </tr>\n",
       "    <tr>\n",
       "      <th>3</th>\n",
       "      <td>2020-08</td>\n",
       "      <td>498</td>\n",
       "      <td>3417</td>\n",
       "      <td>14.574188</td>\n",
       "    </tr>\n",
       "    <tr>\n",
       "      <th>4</th>\n",
       "      <td>2020-09</td>\n",
       "      <td>385</td>\n",
       "      <td>4221</td>\n",
       "      <td>9.121061</td>\n",
       "    </tr>\n",
       "    <tr>\n",
       "      <th>5</th>\n",
       "      <td>2020-10</td>\n",
       "      <td>50</td>\n",
       "      <td>7725</td>\n",
       "      <td>0.647249</td>\n",
       "    </tr>\n",
       "  </tbody>\n",
       "</table>\n",
       "</div>"
      ],
      "text/plain": [
       "   cohorte  total_incidentes  total_transacciones  tasa_incidentes_%\n",
       "0  2020-05                44                  837           5.256870\n",
       "1  2020-06               560                 2615          21.414914\n",
       "2  2020-07               659                 3601          18.300472\n",
       "3  2020-08               498                 3417          14.574188\n",
       "4  2020-09               385                 4221           9.121061\n",
       "5  2020-10                50                 7725           0.647249"
      ]
     },
     "execution_count": 10,
     "metadata": {},
     "output_type": "execute_result"
    }
   ],
   "source": [
    "tasa_incidentes"
   ]
  },
  {
   "cell_type": "markdown",
   "id": "9f836651-083f-43e2-a6bf-68c357b2ea97",
   "metadata": {},
   "source": [
    "# 3. Ingresos Generados por la Cohorte:\n",
    "Definición: Queremos calcular el total de ingresos generados por cada cohorte.\n",
    "Cálculo:\n",
    "Agrupa df_fees por cohorte (relacionando los IDs de df_cash con df_fees mediante cash_request_id).\n",
    "Suma el total_amount para cada cohorte"
   ]
  },
  {
   "cell_type": "code",
   "execution_count": 12,
   "id": "81201ce4-091b-4d58-ae80-a51380ec6e8b",
   "metadata": {},
   "outputs": [],
   "source": [
    "# Unir df_fees con df_cash para obtener el campo de cohorte\n",
    "ingresos = df_fees.merge(df_cash[['id', 'cohorte']], left_on='cash_request_id', right_on='id')\n",
    "\n",
    "# Calcular los ingresos por cohorte sumando el total_amount\n",
    "ingresos_cohorte = ingresos.groupby('cohorte')['total_amount'].sum().reset_index(name='ingresos_totales')\n"
   ]
  },
  {
   "cell_type": "code",
   "execution_count": 13,
   "id": "a8cc1b2d-f445-4454-b68c-33831b1053de",
   "metadata": {},
   "outputs": [
    {
     "data": {
      "text/html": [
       "<div>\n",
       "<style scoped>\n",
       "    .dataframe tbody tr th:only-of-type {\n",
       "        vertical-align: middle;\n",
       "    }\n",
       "\n",
       "    .dataframe tbody tr th {\n",
       "        vertical-align: top;\n",
       "    }\n",
       "\n",
       "    .dataframe thead th {\n",
       "        text-align: right;\n",
       "    }\n",
       "</style>\n",
       "<table border=\"1\" class=\"dataframe\">\n",
       "  <thead>\n",
       "    <tr style=\"text-align: right;\">\n",
       "      <th></th>\n",
       "      <th>cohorte</th>\n",
       "      <th>ingresos_totales</th>\n",
       "    </tr>\n",
       "  </thead>\n",
       "  <tbody>\n",
       "    <tr>\n",
       "      <th>0</th>\n",
       "      <td>2020-04</td>\n",
       "      <td>5.0</td>\n",
       "    </tr>\n",
       "    <tr>\n",
       "      <th>1</th>\n",
       "      <td>2020-05</td>\n",
       "      <td>1285.0</td>\n",
       "    </tr>\n",
       "    <tr>\n",
       "      <th>2</th>\n",
       "      <td>2020-06</td>\n",
       "      <td>8725.0</td>\n",
       "    </tr>\n",
       "    <tr>\n",
       "      <th>3</th>\n",
       "      <td>2020-07</td>\n",
       "      <td>10395.0</td>\n",
       "    </tr>\n",
       "    <tr>\n",
       "      <th>4</th>\n",
       "      <td>2020-08</td>\n",
       "      <td>17565.0</td>\n",
       "    </tr>\n",
       "    <tr>\n",
       "      <th>5</th>\n",
       "      <td>2020-09</td>\n",
       "      <td>22935.0</td>\n",
       "    </tr>\n",
       "    <tr>\n",
       "      <th>6</th>\n",
       "      <td>2020-10</td>\n",
       "      <td>43815.0</td>\n",
       "    </tr>\n",
       "    <tr>\n",
       "      <th>7</th>\n",
       "      <td>2020-11</td>\n",
       "      <td>565.0</td>\n",
       "    </tr>\n",
       "  </tbody>\n",
       "</table>\n",
       "</div>"
      ],
      "text/plain": [
       "   cohorte  ingresos_totales\n",
       "0  2020-04               5.0\n",
       "1  2020-05            1285.0\n",
       "2  2020-06            8725.0\n",
       "3  2020-07           10395.0\n",
       "4  2020-08           17565.0\n",
       "5  2020-09           22935.0\n",
       "6  2020-10           43815.0\n",
       "7  2020-11             565.0"
      ]
     },
     "execution_count": 13,
     "metadata": {},
     "output_type": "execute_result"
    }
   ],
   "source": [
    "ingresos_cohorte"
   ]
  },
  {
   "cell_type": "code",
   "execution_count": null,
   "id": "b998099d-4681-41df-acc8-7ac54c3ebfa9",
   "metadata": {},
   "outputs": [],
   "source": []
  },
  {
   "cell_type": "code",
   "execution_count": null,
   "id": "d8c7939a-6d85-465d-bbcb-8698c7a2b4ba",
   "metadata": {},
   "outputs": [],
   "source": []
  },
  {
   "cell_type": "code",
   "execution_count": null,
   "id": "b027fdbb-68f9-4bb0-b3fe-df6fe28a9eb7",
   "metadata": {},
   "outputs": [],
   "source": []
  },
  {
   "cell_type": "code",
   "execution_count": null,
   "id": "0fbfc96e-2668-4cd4-a188-012f64dd7504",
   "metadata": {},
   "outputs": [],
   "source": []
  },
  {
   "cell_type": "markdown",
   "id": "5bfc71e7-71eb-4877-8ee8-faade9f7b5ac",
   "metadata": {},
   "source": [
    "# 4. Nueva Métrica Relevante - Tasa de Reembolsos por Cohorte:\n",
    "Definición: Una métrica relevante para el análisis podría ser la tasa de reembolsos exitosos (pagos que han sido reembolsados en la categoría money_back).\n",
    "Cálculo:\n",
    "Filtra las transacciones con estado money_back.\n",
    "Agrupa por cohorte y cuenta cuántos reembolsos exitosos se han hecho.\n",
    "Divide el número de reembolsos por el total de transacciones de cada cohorte."
   ]
  },
  {
   "cell_type": "code",
   "execution_count": 15,
   "id": "e99bbffe-717d-4a12-9fb3-49d9d8f6ab23",
   "metadata": {},
   "outputs": [],
   "source": [
    "# Filtrar transacciones con estado `money_back`\n",
    "reembolsos = df_cash[df_cash['status'] == 'money_back']\n",
    "\n",
    "# Calcular el número de reembolsos por cohorte\n",
    "reembolsos_cohorte = reembolsos.groupby('cohorte').size().reset_index(name='total_reembolsos')\n",
    "\n",
    "# Calcular la tasa de reembolsos por cohorte\n",
    "tasa_reembolsos = reembolsos_cohorte.merge(total_transacciones, on='cohorte')\n",
    "tasa_reembolsos['tasa_reembolsos_%'] = tasa_reembolsos['total_reembolsos'] / tasa_reembolsos['total_transacciones'] * 100\n"
   ]
  },
  {
   "cell_type": "code",
   "execution_count": 16,
   "id": "687bdc1e-dfd6-4b18-9a8c-d8b876bb5abc",
   "metadata": {},
   "outputs": [
    {
     "data": {
      "text/html": [
       "<div>\n",
       "<style scoped>\n",
       "    .dataframe tbody tr th:only-of-type {\n",
       "        vertical-align: middle;\n",
       "    }\n",
       "\n",
       "    .dataframe tbody tr th {\n",
       "        vertical-align: top;\n",
       "    }\n",
       "\n",
       "    .dataframe thead th {\n",
       "        text-align: right;\n",
       "    }\n",
       "</style>\n",
       "<table border=\"1\" class=\"dataframe\">\n",
       "  <thead>\n",
       "    <tr style=\"text-align: right;\">\n",
       "      <th></th>\n",
       "      <th>cohorte</th>\n",
       "      <th>total_reembolsos</th>\n",
       "      <th>total_transacciones</th>\n",
       "      <th>tasa_reembolsos_%</th>\n",
       "    </tr>\n",
       "  </thead>\n",
       "  <tbody>\n",
       "    <tr>\n",
       "      <th>0</th>\n",
       "      <td>2019-12</td>\n",
       "      <td>154</td>\n",
       "      <td>289</td>\n",
       "      <td>53.287197</td>\n",
       "    </tr>\n",
       "    <tr>\n",
       "      <th>1</th>\n",
       "      <td>2020-01</td>\n",
       "      <td>102</td>\n",
       "      <td>223</td>\n",
       "      <td>45.739910</td>\n",
       "    </tr>\n",
       "    <tr>\n",
       "      <th>2</th>\n",
       "      <td>2020-02</td>\n",
       "      <td>102</td>\n",
       "      <td>184</td>\n",
       "      <td>55.434783</td>\n",
       "    </tr>\n",
       "    <tr>\n",
       "      <th>3</th>\n",
       "      <td>2020-03</td>\n",
       "      <td>165</td>\n",
       "      <td>244</td>\n",
       "      <td>67.622951</td>\n",
       "    </tr>\n",
       "    <tr>\n",
       "      <th>4</th>\n",
       "      <td>2020-04</td>\n",
       "      <td>309</td>\n",
       "      <td>473</td>\n",
       "      <td>65.327696</td>\n",
       "    </tr>\n",
       "    <tr>\n",
       "      <th>5</th>\n",
       "      <td>2020-05</td>\n",
       "      <td>591</td>\n",
       "      <td>837</td>\n",
       "      <td>70.609319</td>\n",
       "    </tr>\n",
       "    <tr>\n",
       "      <th>6</th>\n",
       "      <td>2020-06</td>\n",
       "      <td>1591</td>\n",
       "      <td>2615</td>\n",
       "      <td>60.841300</td>\n",
       "    </tr>\n",
       "    <tr>\n",
       "      <th>7</th>\n",
       "      <td>2020-07</td>\n",
       "      <td>1909</td>\n",
       "      <td>3601</td>\n",
       "      <td>53.013052</td>\n",
       "    </tr>\n",
       "    <tr>\n",
       "      <th>8</th>\n",
       "      <td>2020-08</td>\n",
       "      <td>1922</td>\n",
       "      <td>3417</td>\n",
       "      <td>56.248171</td>\n",
       "    </tr>\n",
       "    <tr>\n",
       "      <th>9</th>\n",
       "      <td>2020-09</td>\n",
       "      <td>2618</td>\n",
       "      <td>4221</td>\n",
       "      <td>62.023217</td>\n",
       "    </tr>\n",
       "    <tr>\n",
       "      <th>10</th>\n",
       "      <td>2020-10</td>\n",
       "      <td>6811</td>\n",
       "      <td>7725</td>\n",
       "      <td>88.168285</td>\n",
       "    </tr>\n",
       "    <tr>\n",
       "      <th>11</th>\n",
       "      <td>2020-11</td>\n",
       "      <td>123</td>\n",
       "      <td>140</td>\n",
       "      <td>87.857143</td>\n",
       "    </tr>\n",
       "  </tbody>\n",
       "</table>\n",
       "</div>"
      ],
      "text/plain": [
       "    cohorte  total_reembolsos  total_transacciones  tasa_reembolsos_%\n",
       "0   2019-12               154                  289          53.287197\n",
       "1   2020-01               102                  223          45.739910\n",
       "2   2020-02               102                  184          55.434783\n",
       "3   2020-03               165                  244          67.622951\n",
       "4   2020-04               309                  473          65.327696\n",
       "5   2020-05               591                  837          70.609319\n",
       "6   2020-06              1591                 2615          60.841300\n",
       "7   2020-07              1909                 3601          53.013052\n",
       "8   2020-08              1922                 3417          56.248171\n",
       "9   2020-09              2618                 4221          62.023217\n",
       "10  2020-10              6811                 7725          88.168285\n",
       "11  2020-11               123                  140          87.857143"
      ]
     },
     "execution_count": 16,
     "metadata": {},
     "output_type": "execute_result"
    }
   ],
   "source": [
    "tasa_reembolsos"
   ]
  },
  {
   "cell_type": "code",
   "execution_count": null,
   "id": "104fad41-0f34-4c24-8c61-93e37875592a",
   "metadata": {},
   "outputs": [],
   "source": []
  },
  {
   "cell_type": "code",
   "execution_count": null,
   "id": "e8fa5d9f-9c2a-4f0e-8231-ea8080de6bc8",
   "metadata": {},
   "outputs": [],
   "source": []
  }
 ],
 "metadata": {
  "kernelspec": {
   "display_name": "Python 3 (ipykernel)",
   "language": "python",
   "name": "python3"
  },
  "language_info": {
   "codemirror_mode": {
    "name": "ipython",
    "version": 3
   },
   "file_extension": ".py",
   "mimetype": "text/x-python",
   "name": "python",
   "nbconvert_exporter": "python",
   "pygments_lexer": "ipython3",
   "version": "3.11.9"
  }
 },
 "nbformat": 4,
 "nbformat_minor": 5
}
